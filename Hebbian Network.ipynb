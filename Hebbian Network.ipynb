{
 "cells": [
  {
   "cell_type": "code",
   "execution_count": 5,
   "id": "9c8dc186",
   "metadata": {},
   "outputs": [
    {
     "name": "stdout",
     "output_type": "stream",
     "text": [
      "the weights of w1,w2,b are 2 2 2\n"
     ]
    },
    {
     "data": {
      "image/png": "[encoded data removed]",
      "text/plain": [
       "<Figure size 432x288 with 1 Axes>"
      ]
     },
     "metadata": {
      "needs_background": "light"
     },
     "output_type": "display_data"
    }
   ],
   "source": [
    "import numpy as np\n",
    "from matplotlib import pyplot as plt\n",
    "x1=[]\n",
    "x2=[]\n",
    "y=[]\n",
    "c=[-1,1]\n",
    "w1=0\n",
    "w2=0\n",
    "b=0\n",
    "g0=[]\n",
    "g1=[]\n",
    "mx=[]\n",
    "my=[]\n",
    "px=[]\n",
    "py=[]\n",
    "bias=[]\n",
    "for i in c:\n",
    "    for j in c:\n",
    "        x1.append(i)\n",
    "        x2.append(j)\n",
    "        bias.append(1)\n",
    "for i in range(0,2):\n",
    "    for j in range(0,2):\n",
    "        a=(i or j)\n",
    "        if(a==0):\n",
    "            a=-1\n",
    "        elif(a==1):\n",
    "            a=1\n",
    "        y.append(a)\n",
    "for i in range(len(x1)):\n",
    "    dw1=x1[i]*y[i]\n",
    "    dw2=x2[i]*y[i]\n",
    "    db=y[i]\n",
    "    w1=w1+dw1\n",
    "    w2=w2+dw2\n",
    "    b=b+db\n",
    "\n",
    "print(\"the weights of w1,w2,b are\",w1,w2,b)\n",
    "\n",
    "for i in range(len(x1)):\n",
    "    gx2=(-b*bias[i]-w1*x1[i])/w2\n",
    "    g0.append(x1[i])\n",
    "    g1.append(gx2)\n",
    "for i in range(len(x1)):\n",
    "    if(y[i]>=1):\n",
    "        px.append(x1[i])\n",
    "        py.append(x2[i])\n",
    "    else:\n",
    "        mx.append(x1[i])\n",
    "        my.append(x2[i])\n",
    "plt.plot(g0,g1)\n",
    "plt.scatter(px,py,marker=\"+\")\n",
    "plt.scatter(mx,my,marker=\"_\")\n",
    "plt.show()"
   ]
  }
 ],
 "metadata": {
  "kernelspec": {
   "display_name": "Python 3 (ipykernel)",
   "language": "python",
   "name": "python3"
  },
  "language_info": {
   "codemirror_mode": {
    "name": "ipython",
    "version": 3
   },
   "file_extension": ".py",
   "mimetype": "text/x-python",
   "name": "python",
   "nbconvert_exporter": "python",
   "pygments_lexer": "ipython3",
   "version": "3.9.12"
  }
 },
 "nbformat": 4,
 "nbformat_minor": 5
}
